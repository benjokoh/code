{
 "cells": [
  {
   "cell_type": "code",
   "execution_count": 31,
   "id": "7053a49e",
   "metadata": {},
   "outputs": [],
   "source": [
    "from flask import Flask\n",
    "app = Flask(__name__)\n",
    "@app.route('/')\n",
    "def home():\n",
    "    return \"Hello, Flask!\""
   ]
  },
  {
   "cell_type": "code",
   "execution_count": 32,
   "id": "e5410f82",
   "metadata": {},
   "outputs": [
    {
     "name": "stdout",
     "output_type": "stream",
     "text": [
      "Heads\n"
     ]
    }
   ],
   "source": [
    "import random\n",
    "\n",
    "num = random.randint(0, 1)   # Generates a random number that's either 0 or 1\n",
    "if num > 0.5:\n",
    "  print('Heads')\n",
    "else:\n",
    "  print('Tails')\n",
    "  "
   ]
  },
  {
   "cell_type": "code",
   "execution_count": 33,
   "id": "eab51d3a",
   "metadata": {},
   "outputs": [
    {
     "name": "stdout",
     "output_type": "stream",
     "text": [
      "You passed.\n"
     ]
    }
   ],
   "source": [
    "grade = 60\n",
    "\n",
    "if grade >= 55:\n",
    "  print('You passed.')\n",
    "else:\n",
    "  print('You failed.')\n",
    "breakpoint()  # This will pause the execution for debugging purposes"
   ]
  },
  {
   "cell_type": "code",
   "execution_count": 34,
   "id": "01f27566",
   "metadata": {},
   "outputs": [
    {
     "name": "stdout",
     "output_type": "stream",
     "text": [
      "A\n"
     ]
    }
   ],
   "source": [
    "grade = int(input('Enter your grade: '))\n",
    "# Determine letter grade based on numeric grade\n",
    "if grade > 90:\n",
    "  print('A')\n",
    "elif grade > 80:\n",
    "  print('B')\n",
    "elif grade > 70:\n",
    "  print('C')\n",
    "elif grade > 60:\n",
    "  print('D')\n",
    "else:\n",
    "  print('F')"
   ]
  },
  {
   "cell_type": "code",
   "execution_count": 35,
   "id": "c36f4f34",
   "metadata": {},
   "outputs": [
    {
     "name": "stdout",
     "output_type": "stream",
     "text": [
      "Neutral\n"
     ]
    }
   ],
   "source": [
    "ph = int(input('Enter a pH value(0-14):'))\n",
    "\n",
    "if ph > 7:\n",
    "  print('Basic')\n",
    "elif ph < 7:\n",
    "  print('Acidic')\n",
    "else:\n",
    "  print('Neutral')"
   ]
  },
  {
   "cell_type": "code",
   "execution_count": 36,
   "id": "44c5f965",
   "metadata": {},
   "outputs": [
    {
     "name": "stdout",
     "output_type": "stream",
     "text": [
      "2\n"
     ]
    }
   ],
   "source": [
    "import random\n",
    "\n",
    "num = random.randint(1, 9)\n",
    "\n",
    "print(num)"
   ]
  },
  {
   "cell_type": "code",
   "execution_count": 37,
   "id": "e47da484",
   "metadata": {},
   "outputs": [
    {
     "name": "stdout",
     "output_type": "stream",
     "text": [
      "It is decidedly so\n"
     ]
    }
   ],
   "source": [
    "import random\n",
    "question = input('Ask a question: ')\n",
    "random_number = random.randint(1, 9)\n",
    "if random_number == 1:\n",
    "    print('Yes - definitely')   \n",
    "elif random_number == 2:\n",
    "    print('It is decidedly so')     \n",
    "elif random_number == 3:\n",
    "    print('Without a doubt')   \n",
    "elif random_number == 4:\n",
    "    print('Reply hazy, try again')\n",
    "elif random_number == 5:\n",
    "    print('Ask again later')\n",
    "elif random_number == 6:\n",
    "    print('Concentrate and ask again')  \n",
    "elif random_number == 7:\n",
    "    print('My reply is no') \n",
    "elif random_number == 8:\n",
    "    print('My sources say no')  \n",
    "elif random_number == 9:\n",
    "    print('Outlook not so good')                                                               "
   ]
  },
  {
   "cell_type": "code",
   "execution_count": null,
   "id": "b61dd3e9",
   "metadata": {},
   "outputs": [
    {
     "name": "stdout",
     "output_type": "stream",
     "text": [
      "You are not eligible for the program.\n"
     ]
    }
   ],
   "source": [
    "# The Cyclone 🎢\n",
    "# Codédex\n",
    "\n",
    "height = int(input('What is your height (cm)? '))\n",
    "credits = int(input('How many credits do you have? '))\n",
    "\n",
    "if height >= 137 and credits >= 10:\n",
    "  print(\"Enjoy the ride!\")\n",
    "elif height < 137 and credits >= 10:\n",
    "  print(\"You are not tall enough to ride.\")\n",
    "elif credits < 10 and height >= 137:\n",
    "  print(\"You don't have enough credits to ride.\")\n",
    "else:\n",
    "  print(\"You are not tall enough for this ride, nor do you have enough credits.\")"
   ]
  },
  {
   "cell_type": "code",
   "execution_count": 1,
   "id": "efb09dfd",
   "metadata": {},
   "outputs": [
    {
     "name": "stdout",
     "output_type": "stream",
     "text": [
      "Question 1: Do you like Dawn or Dusk?\n",
      "1) Dawn\n",
      "2) Dusk\n",
      "Question 2: When I'm dead, I want people to remember me as:\n",
      "1) The Good\n",
      "2) The Great\n",
      "3) The Wise\n",
      "4) The Bold\n",
      "Question 3: Which kind of instrument most pleases your ear?\n",
      "1) The violin\n",
      "2) The trumpet\n",
      "3) The piano\n",
      "4) The drum\n",
      "House Totals:\n",
      "Gryffindor: 3\n",
      "Ravenclaw: 5\n",
      "Hufflepuff: 0\n",
      "Slytherin: 0\n"
     ]
    }
   ],
   "source": [
    "#🦁 Gryffindor #🦅 Ravenclaw #🦡 Hufflepuff #🐍 Slytherin\n",
    "# Hogwarts House Selector\n",
    "gryffindor = 0\n",
    "ravenclaw = 0\n",
    "hufflepuff = 0 \n",
    "slytherin = 0\n",
    "\n",
    "#Q1) Do you like Dawn or Dusk?\n",
    "print('Question 1: Do you like Dawn or Dusk?')\n",
    "print('1) Dawn')   \n",
    "print('2) Dusk')\n",
    "answer = input('Do you like Dawn or Dusk? (1 for Dawn, 2 for Dusk ): ')\n",
    "if answer == '1':\n",
    "    gryffindor += 1\n",
    "    ravenclaw += 1\n",
    "elif answer == '2':\n",
    "    hufflepuff += 1\n",
    "    slytherin += 1\n",
    "#Q2) When I'm dead, I want people to remember me as:\n",
    "print('Question 2: When I\\'m dead, I want people to remember me as:')\n",
    "print('1) The Good')\n",
    "print('2) The Great')\n",
    "print('3) The Wise')\n",
    "print('4) The Bold')\n",
    "answer = int(input('Choose an option (1-4): '))\n",
    "if answer == 1:\n",
    "    hufflepuff += 2\n",
    "elif answer == 2:\n",
    "    slytherin += 2\n",
    "elif answer == 3:\n",
    "    ravenclaw += 2\n",
    "elif answer == 4:\n",
    "    gryffindor += 2\n",
    "else:\n",
    "    print('Wrong input, please try again.')\n",
    "#Q3) Which kind of instrument most pleases your ear?    \n",
    "print('Question 3: Which kind of instrument most pleases your ear?')\n",
    "print('1) The violin')\n",
    "print('2) The trumpet')\n",
    "print('3) The piano')   \n",
    "print('4) The drum')\n",
    "answer = int(input('Choose an option (1-4): '))\n",
    "if answer == 1:\n",
    "    slytherin += 4\n",
    "elif answer == 2:\n",
    "    hufflepuff += 4\n",
    "elif answer == 3:\n",
    "    ravenclaw += 4\n",
    "elif answer == 4:\n",
    "    gryffindor += 4\n",
    "else:\n",
    "    print('Wrong input, please try again.')\n",
    "# House total scores\n",
    "print('House Totals:')\n",
    "print('Gryffindor:', gryffindor)\n",
    "print('Ravenclaw:', ravenclaw)\n",
    "print('Hufflepuff:', hufflepuff)\n",
    "print('Slytherin:', slytherin)  "
   ]
  }
 ],
 "metadata": {
  "kernelspec": {
   "display_name": "base",
   "language": "python",
   "name": "python3"
  },
  "language_info": {
   "codemirror_mode": {
    "name": "ipython",
    "version": 3
   },
   "file_extension": ".py",
   "mimetype": "text/x-python",
   "name": "python",
   "nbconvert_exporter": "python",
   "pygments_lexer": "ipython3",
   "version": "3.12.7"
  }
 },
 "nbformat": 4,
 "nbformat_minor": 5
}
